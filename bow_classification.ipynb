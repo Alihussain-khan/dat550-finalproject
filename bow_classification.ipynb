{
 "cells": [
  {
   "cell_type": "markdown",
   "metadata": {},
   "source": [
    "### importing the data"
   ]
  },
  {
   "cell_type": "code",
   "execution_count": null,
   "metadata": {},
   "outputs": [
    {
     "name": "stdout",
     "output_type": "stream",
     "text": [
      "   Unnamed: 0                                           abstract     label\n",
      "0       31716    Automatic meeting analysis is an essential f...      eess\n",
      "1       89533    We propose a protocol to encode classical bi...  quant-ph\n",
      "2       82700    A number of physically intuitive results for...  quant-ph\n",
      "3       78830    In the last decade rare-earth hexaborides ha...   physics\n",
      "4       94948    We introduce the weak barycenter of a family...      stat\n",
      "<class 'pandas.core.frame.DataFrame'>\n",
      "RangeIndex: 80000 entries, 0 to 79999\n",
      "Data columns (total 3 columns):\n",
      " #   Column      Non-Null Count  Dtype \n",
      "---  ------      --------------  ----- \n",
      " 0   Unnamed: 0  80000 non-null  int64 \n",
      " 1   abstract    80000 non-null  object\n",
      " 2   label       80000 non-null  object\n",
      "dtypes: int64(1), object(2)\n",
      "memory usage: 1.8+ MB\n",
      "None\n",
      "label\n",
      "stat        8055\n",
      "eess        8052\n",
      "physics     8023\n",
      "hep-ph      8010\n",
      "cs          8005\n",
      "quant-ph    7987\n",
      "astro-ph    7987\n",
      "hep-th      7981\n",
      "math        7958\n",
      "cond-mat    7942\n",
      "Name: count, dtype: int64\n"
     ]
    }
   ],
   "source": [
    "import pandas as pd\n",
    "df = pd.read_csv(\"arxiv_train.csv\")\n",
    "#exploring the data\n",
    "print(df.head()) \n",
    "print(df.info()) \n",
    "print(df['label'].value_counts())"
   ]
  }
 ],
 "metadata": {
  "kernelspec": {
   "display_name": "Python 3",
   "language": "python",
   "name": "python3"
  },
  "language_info": {
   "codemirror_mode": {
    "name": "ipython",
    "version": 3
   },
   "file_extension": ".py",
   "mimetype": "text/x-python",
   "name": "python",
   "nbconvert_exporter": "python",
   "pygments_lexer": "ipython3",
   "version": "3.11.7"
  },
  "orig_nbformat": 4,
  "vscode": {
   "interpreter": {
    "hash": "3fcbd7240ee8f908d933dc7f71e8c42a1a91163b70ede8dcff5146d4087436c7"
   }
  }
 },
 "nbformat": 4,
 "nbformat_minor": 2
}
